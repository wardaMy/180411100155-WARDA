{
 "cells": [
  {
   "cell_type": "markdown",
   "metadata": {},
   "source": [
    "1. Searching\n",
    "    a. linier searching\n",
    "        Linear search adalah program algoritma search yang paling sederhana dan mudah dipahami, linear search memiliki kelebihan apa bila data yang di cari letaknya pada data - data awal sehingga prosesnya berjalan cepat.Proses dari linear search yaitu mencari data dari salah satu ujung kiri/kanan lalu mencari tiap data secara runtut sampai ketemu data yang dinginkan. Code :"
   ]
  },
  {
   "cell_type": "code",
   "execution_count": null,
   "metadata": {},
   "outputs": [],
   "source": [
    "search=6\n",
    "mylist=[1,2,3,4,5,6]\n",
    "position=0\n",
    "last=len (mylist) -1\n",
    "middle=(position+last)/2\n",
    "found=False\n",
    "while position <= last and not found :\n",
    "    if mylist[middle]==search:\n",
    "        found=True\n",
    "    else:\n",
    "        if mylist[middle]<= search:\n",
    "            middle=middle-1\n",
    "        else:\n",
    "            position=middle+1\n",
    "    if found:\n",
    "        print (\"found the search number:\")\n",
    "        print (position)\n",
    "    else:\n",
    "        print (\"didnt found the number\")\n",
    "        "
   ]
  },
  {
   "cell_type": "markdown",
   "metadata": {},
   "source": [
    "    b. binary searching\n",
    "        Binary search adalah metode pencarian suatu data atau elemen di dalam suatu array dengan kondisi data dalam keadaan terurut. Proses pencarian binary search hanya dapat dilakukan pada sekumpulan data yang sudah diurutkan terlebih dahulu. Setelah data diurutkan akan mencari data tengah terlebih dahulu.  Apabila data yang dicari kurang dari data tengah, maka pencarian data dimulai dari index ke 0 sampai index sebelum data tengah. Apabila data yang dicari lebih dari data tengah,  maka pencarian data dimulai dari index setelah data tengah sampai index terakhir. Begitu seterusnya sampai data yang dicari tersebut ditemukan. Code:\n",
    "        "
   ]
  },
  {
   "cell_type": "code",
   "execution_count": null,
   "metadata": {},
   "outputs": [],
   "source": [
    "search = 6\n",
    "myList = [2,5,7,3,2,8,6]\n",
    "myList.sort()\n",
    "first = 0\n",
    "last = len(myList)-1\n",
    "found = False\n",
    "\n",
    "while first <= last and not found:\n",
    "  middle = (first + last) // 2\n",
    "  if myList[middle] == search:\n",
    "\t  found = True\n",
    "  else:\n",
    "    if search < myList[middle] :\n",
    "      last = middle - 1\n",
    "    else:\n",
    "      first = middle +1\n",
    "if found:\n",
    "\tprint(\"Angka ditemukan.\")\n",
    "\tprint(middle)\n",
    "else:\n",
    "\tprint(\"Angka tidak ditemukan.\")"
   ]
  },
  {
   "cell_type": "markdown",
   "metadata": {},
   "source": [
    "2. Hashing\n",
    "    Hashing adalah transformasi aritmatik sebuah string dari karakter menjadi nilai yang merepresentasikan string aslinya. \n",
    "    a. linier hashing\n",
    "        linier hashing adalah melakukan penambahan 1 tiap index yang terjadi collision, ex: collison terjadi pada index 2, maka data selanjutnya yang berindex 2 akan ditambahkan ke index 3, jika index 3 sudah terdapat value maka data terdebut ditaruh di index 4. code:\n",
    "        ."
   ]
  },
  {
   "cell_type": "code",
   "execution_count": null,
   "metadata": {},
   "outputs": [],
   "source": [
    "table = [None] * 11\n",
    "\n",
    "def hash(x):\n",
    "  return x % 11\n",
    "\n",
    "def insert(table,key,value):\n",
    "  index = hash(key)\n",
    "if table[index] == None:\n",
    "    table[index] = value\n",
    "  else :\n",
    "    collusion=index\n",
    "\n",
    "    found = False\n",
    "    ind=collusion+1\n",
    "    if ind>= len(table)-1:\n",
    "        ind = 0\n",
    "    while (ind<=len(table)-1) and not(found):\n",
    "        if table[ind]== None:\n",
    "            found=True\n",
    "            table[ind]=value\n",
    "       ind=ind+1\n",
    "\n",
    "print(table)\n",
    "insert(table,54,54)\n",
    "print(table)\n",
    "insert(table,26,26)\n",
    "print(table)\n",
    "insert(table,93,93)\n",
    "print(table)\n",
    "insert(table,17,17)\n",
    "print(table)\n",
    "insert(table,77,77)\n",
    "print(table)\n",
    "insert(table,31,31)\n",
    "print(table)\n",
    "insert(table,44,44)\n",
    "print(table)\n",
    "insert(table,55,55)\n",
    "print(table)\n",
    "insert(table,20,20)\n",
    "print(table)\n",
    "insert(table,25,25)\n",
    "print(table)"
   ]
  },
  {
   "cell_type": "markdown",
   "metadata": {},
   "source": [
    "    b. Quadratic Hashing\n",
    "        Quadratic probing serupa dengan linear probing dan satu-satunya perbedaan adalah penambahan tidak satu persatu, \n",
    "    melainkan penambahnya di kuadratkan lalu dimodulus dengan panjang tabel hash. Quadratic Probing mencari alamat baru untuk ditempati dengan proses perhitungan kuadratik yang lebih kompleks. code:"
   ]
  },
  {
   "cell_type": "code",
   "execution_count": null,
   "metadata": {},
   "outputs": [],
   "source": [
    "table = [None] * 11\n",
    "def hash(x):\n",
    "  return x % 11\n",
    "\n",
    "\n",
    "def insert(table,key,value):\n",
    "  index = hash(key)\n",
    "  if table[index] == None:\n",
    "    table[index] = value\n",
    "  else:\n",
    "    collusion=index\n",
    "    found = False\n",
    "    i=1\n",
    "    ind = collusion+1\n",
    "\n",
    "    if ind > len(table)-1:\n",
    "        ind = 0\n",
    "\n",
    "    while (ind<=len(table)-1) and not(found):\n",
    "      if table[ind]== None:\n",
    "        found=True\n",
    "        table[ind]=value\n",
    "        ind = (collusion+(i*i)) % 11\n",
    "      i=i+1\n",
    "\n",
    "print(table)\n",
    "insert(table,54,54)\n",
    "print(table)\n",
    "insert(table,26,26)\n",
    "print(table)\n",
    "insert(table,93,'93')\n",
    "print(table)\n",
    "insert(table,17,'17')\n",
    "print(table)\n",
    "insert(table,77,'77')\n",
    "print(table)\n",
    "insert(table,31,'31')\n",
    "print(table)\n",
    "insert(table,44,'44')\n",
    "print(table)\n",
    "insert(table,55,'55')\n",
    "print(table)\n",
    "insert(table,20,'20')\n",
    "print(table)"
   ]
  },
  {
   "cell_type": "markdown",
   "metadata": {},
   "source": [
    "    c.CHainning\n",
    "        Chaining merupakan suatu teknik untuk mengatasi collision dengan cara menggunakan daerah di luar tabel Hash dalam bentuk linier. Dengan cara Chainning yaitu membuat list didalam tabel hash sehingga data yang berindex sama tidak terjadi collison karena data tersebut ditumpuk ke dalam sebuah list yangtelah dibuat. Code:"
   ]
  },
  {
   "cell_type": "code",
   "execution_count": null,
   "metadata": {},
   "outputs": [],
   "source": [
    "l = 'y'\n",
    "while l == 'y':\n",
    "    table = int(input('Masukan panjang tabel Hash = '))\n",
    "    table = [ [] for _ in range(table) ]\n",
    "\n",
    "    def hash(x,table):\n",
    "        return x % len(table)\n",
    "\n",
    "    def insert(table,key,value):\n",
    "        table[hash(key,table)].append(value)\n",
    "\n",
    "    #Jika ingin mencari data dengan hasil True dan False\n",
    "    '''def searchHash(data,table):\n",
    "        found = False\n",
    "        i = 0\n",
    "        j = 0\n",
    "        while i < len(table) and not found:\n",
    "            if data in table[i]:\n",
    "                print('Data ditemukan')\n",
    "                found = True\n",
    "            i+=1\n",
    "        if found == False:\n",
    "            print('Data tidak ditemukan')'''\n",
    "    #Jika ingin mencari data dengan hasil index data yang dicari\n",
    "    '''def searchHash(data,table):\n",
    "        found = False\n",
    "        i = 0\n",
    "        \n",
    "        while i < len(table) and not found:\n",
    "            j = 0\n",
    "            while j < len(table[i]) and not found:\n",
    "                if data == table[i][j]:\n",
    "                    found = True\n",
    "                if found==False:\n",
    "                    j+=1\n",
    "            if found==False:\n",
    "                i+=1\n",
    "        if found == True:\n",
    "            print('Data %s berada pada list ke-%s index ke-%s'%(data,(i+1),j))\n",
    "        else:\n",
    "            print('Data %s tidak ditemukan'%data)'''\n",
    "\n",
    "    def searchHash(data,table):\n",
    "        index = hash(data,table)\n",
    "        if data in table[index]:\n",
    "            print('True')\n",
    "            jml = len(table[index])\n",
    "            for i in range(jml):\n",
    "                if data == table[index[i]]:\n",
    "                    break\n",
    "            print('Data %s berada di dalam list %s index %s'%(data,index,i))\n",
    "        else:\n",
    "            print('Data %s tidak ditemukan'%data)\n",
    "\n",
    "    \n",
    "    nginput = int(input('Masukan berapa kali ingin memasukan data ke Tabel Hash = '))\n",
    "    b = 1\n",
    "    while b<=nginput:\n",
    "        masukan = int(input('Masukan angka yang ingin dimasukan ke Tabel Hash = '))\n",
    "        insert(table,masukan,masukan)\n",
    "        b+=1\n",
    "\n",
    "    print(table)\n",
    "            \n",
    "    nginput = True\n",
    "    while nginput:\n",
    "        q = input('Apakah ingin mencari Data ? (y/n) ')\n",
    "        if q == 'y':\n",
    "            dicari = int(input('Masukan angka yang ingin dicari = '))\n",
    "            searchHash(dicari,table)\n",
    "        elif q == 'n':\n",
    "            nginput = False\n",
    "        else:\n",
    "            print('Masukan y atau n!')\n",
    "            nginput = True\n",
    "\n",
    "    k = 'y'\n",
    "    while k =='y':\n",
    "        l = input('Apakah ingin melanjutkan program ? (y/n) ')\n",
    "        if l == 'y':\n",
    "            k = 'n'\n",
    "        elif l == 'n':\n",
    "            print('Terima Kasih')\n",
    "            k = 'n'\n",
    "        else:\n",
    "            print('Masukan y atau n!')\n",
    "    "
   ]
  },
  {
   "cell_type": "markdown",
   "metadata": {},
   "source": [
    "3. Sorting (Pengurutan angka dari terkecil atau sebaliknya)\n",
    "    a. Bubble Sort (membandingkan masing - masing nilai dalam suatu list secara berpasangan, pertukaran akan terjadi jika indeks[i] lebih besar daripada indeks[i+1]. Nilai yang menjadi patokannya akan bertambah 1. proses akan berlangsung secara terus menerus hingga list ke - n hingga nilai yang ada pada list terurut.) code:"
   ]
  },
  {
   "cell_type": "code",
   "execution_count": null,
   "metadata": {},
   "outputs": [],
   "source": [
    "def sorting (data):\n",
    "    for i in range (0,len(data)-1:\n",
    "        for j in range(0,len(data)-1):\n",
    "            if data[j]<data[j+1]\n",
    "            temp = data[j]\n",
    "            data[j+1]=temp\n",
    "\n",
    "panjang=int(input(\"masukkan panjang list= \"))\n",
    "myList=[0]*panjang\n",
    "for x in range (panjang):\n",
    "    mylist[x]=int(input(\"masukkan angka= \"))\n",
    "\n",
    "sorting(mylist)\n",
    "print(myList)"
   ]
  },
  {
   "cell_type": "markdown",
   "metadata": {},
   "source": [
    "    b. Selection Sort ( membandingkan elemen list yang pertama dengan elemen yang berikutnya, Jika ditemukan elemen lain yang lebih kecil dari elemen yang sekarang maka ditandai posisinya dan kemudian akan saling bertukar tempat. Metode ini memiliki konsep memilih data yang maksimum/minimum dari suatu kumpulan data hingga list ke-n, dan menempatkan data tersebut ke elemen paling akhir atau paling awal sesuai pengurutan yang diinginkan.) CODE:\n"
   ]
  },
  {
   "cell_type": "code",
   "execution_count": 1,
   "metadata": {},
   "outputs": [
    {
     "name": "stdout",
     "output_type": "stream",
     "text": [
      "[34, 16, 14, 63, 5]\n",
      "[5, 16, 14, 63, 34]\n",
      "[5, 14, 16, 63, 34]\n",
      "[5, 14, 16, 63, 34]\n",
      "[5, 14, 16, 34, 63]\n"
     ]
    }
   ],
   "source": [
    "mylist = [34,16,14,63,5]\n",
    "position = len(mylist)-1\n",
    "for x in range (0,position) :\n",
    "    min = x\n",
    "    print(mylist)\n",
    "    for y in range ((x+1),len(mylist)) :\n",
    "        if mylist[min] > mylist[y] :\n",
    "           min = y\n",
    "    mylist[x],mylist[min] = mylist[min],mylist[x]\n",
    "print(mylist)"
   ]
  },
  {
   "cell_type": "markdown",
   "metadata": {},
   "source": [
    "    C. Insertion Sort (menyisipkan suatu elemen list pada posisi yang sesuai. Posisi tersebut dicari dengan cara membandingkan suatu elemen dengan elemen-elemen sebelumnya. Elemen pertama dianggap telah berada pada posisi yang tepat. lalu, elemen kedua akan dibandingkan dengan elemen pertama. Jika elemen pertama > dari elemen kedua, maka elemen pertama akan digeser ke kanan menjadi elemen kedua dan elemen kedua sebelumnya akan disisiplan pada posisi pertama.) CODE:a = [5,2,4,6,1,3]\n"
   ]
  },
  {
   "cell_type": "code",
   "execution_count": null,
   "metadata": {},
   "outputs": [],
   "source": [
    "a = [4,5,1,7,5,7,]\n",
    "for i in range (1,len(a),1) :\n",
    "    print(a)\n",
    "    value = a[i]\n",
    "    hole = i\n",
    "    while hole > 0 and a[hole-1] > value :\n",
    "        a[hole] = a[hole-1]\n",
    "        hole = hole - 1\n",
    "    a[hole] = value\n",
    "print(a)"
   ]
  },
  {
   "cell_type": "markdown",
   "metadata": {},
   "source": [
    "    D. Quick Sort (proses pengurutan angka yang ditentukan pivot. Pivot tersebut bisa berada di depan , berada di belakang atau berada di tengah. Quick Sort biasanya menggunakan fungsi rekursif. Pertama quick sort membagi list yang besar menjadi dua buah sub list atau dua kubu yang lebih kecil (kubu element kecil dan kubu element besar). Kemudian quick list akan menyortir sub list itu secara rekursif.) CODE:"
   ]
  },
  {
   "cell_type": "code",
   "execution_count": null,
   "metadata": {},
   "outputs": [],
   "source": [
    "def quicsortawal(a) :\n",
    "    quicsort(a,0,len(a)-1)\n",
    "\n",
    "def quicsort(a,start,end) :\n",
    "    if start < end :\n",
    "        pindex = partition(a,start,end)\n",
    "        quicsort(a,start,pindex - 1)\n",
    "        print(a)\n",
    "        quicsort(a,pindex + 1,end)\n",
    "        print(a)\n",
    "\n",
    "def partition(a,start,end) :\n",
    "    pivot = a[end]\n",
    "    pindex = start\n",
    "    for i in range (start,end) :\n",
    "        if (a[i] <= pivot) :\n",
    "            a[i],a[pindex] = a[pindex],a[i]\n",
    "            pindex = pindex + 1\n",
    "    a[pindex],a[end] = a[end],a[pindex]\n",
    "    return pindex\n",
    "\n",
    "a = [45,21,75,34,24,86,54]\n",
    "quicsortawal(a)\n",
    "print(a)"
   ]
  },
  {
   "cell_type": "markdown",
   "metadata": {},
   "source": [
    "    E. MERGE SORT (Pengurutan yang memang dirancang untuk mengurutkan data-data dalam jumlah yang sangat besar menggunakan rekursif. cara kerja : Pertama data dipecah menjadi 2 bagian dimana bagian pertama merupakan setengah (jika data genap) atau setengah minus satu (jika data ganjil) dari seluruh data, kemudian dilakukan pemecahan kembali untuk masing-masing blok sampai hanya terdiri dari satu data tiap blok. Setelah itu, data digabungkan kembali dengan membandingkan pada blok yang sama apakah data pertama lebih besar daripada data ke-tengah+1, jika iya, maka data ke-tengah+1 akan dipindah sebagai data pertama, kemudian data ke-pertama sampai ke-tengah digeser menjadi data kedua sampai ke-tengah+1, demikian seterusnya, selanjutnya data tersebut dibandingkan menjadi 2 kubu kembali dan dibandingkan antara kubu kanan dan kiri, nilai data terkecil akan akan masuk terlebih dahulu pada tempat list terurut dilanjutnya hingga yang terbesar.)"
   ]
  },
  {
   "cell_type": "code",
   "execution_count": null,
   "metadata": {},
   "outputs": [],
   "source": [
    "def mergesort(a):\n",
    "    n = len(a)\n",
    "    if(n<2) :\n",
    "        return\n",
    "    mid = len(a)//2\n",
    "    left = a[:mid]\n",
    "    right = a[mid:]\n",
    "    mergesort(left)\n",
    "    mergesort(right)\n",
    "    i = 0\n",
    "    j = 0\n",
    "    k = 0\n",
    "    while i < len(left) and j < len(right) :\n",
    "        if left[i] < right[j] :\n",
    "            a[k] = left[i]\n",
    "            i = i + 1\n",
    "        else :\n",
    "            a[k] = right[j]\n",
    "            j = j + 1\n",
    "        k = k + 1\n",
    "    print(a)\n",
    "    while i < len(left) :\n",
    "        a[k] = left[i]\n",
    "        i = i + 1\n",
    "        k = k + 1\n",
    "    while j < len(right) :\n",
    "        a[k] = right[j]\n",
    "        j = j + 1\n",
    "        k = k + 1\n",
    "a = [42,12,66,37,9]\n",
    "mergesort(a)\n",
    "print(a)"
   ]
  },
  {
   "cell_type": "markdown",
   "metadata": {},
   "source": [
    "    f. Shell Sort (menggunakan selection sort yang dimodifikasi. cara pengurutannya adalah data list dibagi menjadi beberapa sub-list. Pertama,kita disuruh membuat sub-list terlebih dahulu. dan hasil setelah terjadi pergeseran pada setiap subnya akan disimpan pad tabel yang baru(K). Setelah semua sub telah dicek dan terjadi pergeseran, maka langkah selanjutnya adalah membandingkan k yang baru dengan k yang lain untuk mengecek data yang akan diurutkan selanjutnya.) CODE:"
   ]
  },
  {
   "cell_type": "code",
   "execution_count": null,
   "metadata": {},
   "outputs": [],
   "source": [
    "def shelsort(alist) :\n",
    "    sublistcount = len(alist)//2\n",
    "    while sublistcount > 0 :\n",
    "        for startposition in range (sublistcount) :\n",
    "            print(sublistcount)\n",
    "            gapinsertionsort(alist,startposition,sublistcount)\n",
    "        sublistcount = sublistcount//2\n",
    "def gapinsertionsort(alist,start,gap) :\n",
    "    for i in range (start+gap,len(alist),gap) :\n",
    "        value = alist[i]\n",
    "        position = i\n",
    "        while position >= gap and alist[position - gap] < value :\n",
    "            alist[position] = alist[position-gap]\n",
    "            position = position - gap\n",
    "        alist[position] = value\n",
    "        print(alist)\n",
    "        \n",
    "alist = [33,12,54,72,53,6]\n",
    "print(alist)\n",
    "shelsort(alist) "
   ]
  }
 ],
 "metadata": {
  "kernelspec": {
   "display_name": "Python 3",
   "language": "python",
   "name": "python3"
  },
  "language_info": {
   "codemirror_mode": {
    "name": "ipython",
    "version": 3
   },
   "file_extension": ".py",
   "mimetype": "text/x-python",
   "name": "python",
   "nbconvert_exporter": "python",
   "pygments_lexer": "ipython3",
   "version": "3.7.1"
  }
 },
 "nbformat": 4,
 "nbformat_minor": 2
}
